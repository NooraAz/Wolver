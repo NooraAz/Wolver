{
  "nbformat": 4,
  "nbformat_minor": 0,
  "metadata": {
    "colab": {
      "name": "wordle_solver.ipynb",
      "provenance": [],
      "collapsed_sections": [],
      "include_colab_link": true
    },
    "kernelspec": {
      "name": "python3",
      "display_name": "Python 3"
    },
    "language_info": {
      "name": "python"
    }
  },
  "cells": [
    {
      "cell_type": "markdown",
      "metadata": {
        "id": "view-in-github",
        "colab_type": "text"
      },
      "source": [
        "<a href=\"https://colab.research.google.com/github/NooraAz/Wolver/blob/main/wordle_solver.ipynb\" target=\"_parent\"><img src=\"https://colab.research.google.com/assets/colab-badge.svg\" alt=\"Open In Colab\"/></a>"
      ]
    },
    {
      "cell_type": "markdown",
      "source": [
        "#Welcome to **Wolver**! \n",
        "The best wordle-solver in the world! \n",
        "\n",
        "[ just kidding :)) ]\n",
        "\n",
        "First you need to have the library in your google drive:\n",
        "1. Right click on <a href=\"https://github.com/NooraAz/Wolver/blob/main/fiveslib.txt\">this link</a> and click save as, to save this file. \n",
        "2. click on folder sign from the left menu.\n",
        "3. drag and drop the file there (or upload it)"
      ],
      "metadata": {
        "id": "ldXRqFXg2Q35"
      }
    },
    {
      "cell_type": "code",
      "execution_count": null,
      "metadata": {
        "id": "e7FLdATzT9LN",
        "colab": {
          "base_uri": "https://localhost:8080/"
        },
        "outputId": "1e6b03c1-56c4-4a6c-f6e6-2d04725e715c",
        "cellView": "form"
      },
      "outputs": [
        {
          "output_type": "stream",
          "name": "stdout",
          "text": [
            "Drive already mounted at /content/drive; to attempt to forcibly remount, call drive.mount(\"/content/drive\", force_remount=True).\n"
          ]
        }
      ],
      "source": [
        "#@title Mount the drive\n",
        "import random \n",
        "import csv\n",
        "import pandas as pd\n",
        "from textwrap import wrap\n",
        "from google.colab import drive\n",
        "drive.mount('/content/drive')"
      ]
    },
    {
      "cell_type": "code",
      "source": [
        "#@title Import the library\n",
        "df = pd.read_csv('fiveslib.txt')\n",
        "words = df['word'].tolist()\n",
        "words_copy = words.copy()"
      ],
      "metadata": {
        "id": "m5r5SJuFrf5R"
      },
      "execution_count": null,
      "outputs": []
    },
    {
      "cell_type": "markdown",
      "source": [
        ""
      ],
      "metadata": {
        "id": "JcKO9Z9Y0RXt"
      }
    },
    {
      "cell_type": "code",
      "source": [
        "#@markdown Our strategy is to start with words that have no common letters. First run this cell, and then run the next one to get words for strating!\n",
        "n = len(words)\n",
        "for i in range(n):\n",
        "    for w in words:\n",
        "        if bool(set(w) & set(words[i])) == False:\n",
        "            words.append(words[i] + w)"
      ],
      "metadata": {
        "cellView": "form",
        "id": "KGYVrxIIDs3S"
      },
      "execution_count": null,
      "outputs": []
    },
    {
      "cell_type": "markdown",
      "source": [
        ""
      ],
      "metadata": {
        "id": "tyD569DA0Qys"
      }
    },
    {
      "cell_type": "code",
      "source": [
        "#@title Run this cell to get suggested words to start!\n",
        "suggestions = []\n",
        "for word in words:\n",
        "  if len(set(word))>=15:\n",
        "    suggestions.append(word)\n",
        "\n",
        "s = ''.join(random.choice(suggestions))\n",
        "for _ in wrap(s,5):\n",
        "  print(_)"
      ],
      "metadata": {
        "cellView": "form",
        "id": "YyrCe0jUISEE",
        "colab": {
          "base_uri": "https://localhost:8080/"
        },
        "outputId": "6e946ccb-701d-4fc5-d09f-e7026ecbb9ff"
      },
      "execution_count": null,
      "outputs": [
        {
          "output_type": "stream",
          "name": "stdout",
          "text": [
            "jelly\n",
            "gamma\n",
            "proud\n",
            "think\n"
          ]
        }
      ]
    },
    {
      "cell_type": "code",
      "source": [
        "#@title Find the word based on feedbacks!\n",
        "#@markdown enter the green and yellow tiles here, as examples show. Put ? for unknown letters. \n",
        "\n",
        "#@markdown <img src=\"https://i.ibb.co/Gp11FB3/Screen-Shot-2022-03-11-at-8-45-53-PM.png\">\n",
        "green_cells = '?a?c?' #@param {type:\"string\"}\n",
        "green_cells = list(green_cells)\n",
        "#@markdown <img src=\"https://i.ibb.co/Z8LGX1W/Screen-Shot-2022-03-11-at-8-55-15-PM.png\">\n",
        "yellow_cells = '??a?t' #@param {type:\"string\"}\n",
        "yellow_cells = list(yellow_cells)\n",
        "\n",
        "def find_word(exact, having):\n",
        "  hint = []\n",
        "  for i in range(len(exact)):\n",
        "    if exact[i] != '?':\n",
        "      hint.append([exact[i],i,1])\n",
        "  for i in range(len(having)):\n",
        "    if having[i] != '?':\n",
        "      hint.append([having[i],i,2])  \n",
        "  pro = [[] for _ in range(len(hint))]\n",
        "  for i,h in enumerate(hint):\n",
        "    l = h[0]\n",
        "    p = h[1]\n",
        "    s = h[2]\n",
        "    if s == 2:\n",
        "      for word in words_copy:\n",
        "        if l in word and word[p] != l:\n",
        "          pro[i].append(word)\n",
        "    if s == 1:\n",
        "      for word in words_copy:\n",
        "        if word[p] == l:\n",
        "          pro[i].append(word)\n",
        "    answer = set(pro[0])\n",
        "    for _ in pro[1:]:\n",
        "      answer.intersection_update(_)\n",
        "    \n",
        "  if answer:\n",
        "    print(\"The probable words are:\")\n",
        "    for _ in answer:\n",
        "      print(_)\n",
        "  else:\n",
        "    print(\"We're sorry, we couldn't find any word with the entered features.\")\n",
        "    print(\"However, you can help us by adding your found word to our databse. You can do so in the next step.\")\n",
        "\n",
        "find_word(green_cells,yellow_cells)"
      ],
      "metadata": {
        "colab": {
          "base_uri": "https://localhost:8080/"
        },
        "cellView": "form",
        "id": "fx44HWvR375l",
        "outputId": "24317cd7-be65-4d56-96ef-02f1617c6061"
      },
      "execution_count": null,
      "outputs": [
        {
          "output_type": "stream",
          "name": "stdout",
          "text": [
            "The probable words are:\n",
            "catch\n",
            "watch\n",
            "match\n"
          ]
        }
      ]
    },
    {
      "cell_type": "code",
      "source": [
        "#@title You didn't get any answer?\n",
        "#@markdown Our library is still very small and it is highly probable that you don't get an answer. \n",
        "\n",
        "#@markdown However, you can contribute to the library by editing <a href=\"https://github.com/NooraAz/Wolver/blob/main/fiveslib.csv\">this file</a> (link to github) and adding your word to it. I appreciate your help!"
      ],
      "metadata": {
        "colab": {
          "base_uri": "https://localhost:8080/"
        },
        "id": "qvjIdu4VBetr",
        "outputId": "3f7d56bc-bbb1-48cc-e4b1-77060dc0acc5"
      },
      "execution_count": null,
      "outputs": [
        {
          "output_type": "stream",
          "name": "stdout",
          "text": [
            "No worries! we just added that! Thanks for your contribution to Wolver!\n"
          ]
        }
      ]
    }
  ]
}
